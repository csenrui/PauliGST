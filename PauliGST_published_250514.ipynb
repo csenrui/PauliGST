{
 "cells": [
  {
   "cell_type": "markdown",
   "metadata": {},
   "source": [
    "# Gate Set Pauli Noise Learning (PauliGST)\n",
    "\n",
    "By Senrui Chen, 2025 May 14\n",
    "\n",
    "Contents of this notebook: \n",
    "1) Start by specifying a gateset and reduced noise model (Nearest-neighbor 2-local on a ring)\n",
    "2) Then provide a collections of experiments in the form of $(\\mathcal C,P)$, where $\\mathcal C$ is a Clifford gate sequence (within the gate set) and $P$ is a Pauli observable.\n",
    "3) The algorithms return the degrees of freedom that is learned by the provided experiments, and compare it with the size of reduced learnable space.\n",
    "4) Qiskit Simulations for learning and estimating the noises."
   ]
  },
  {
   "cell_type": "code",
   "execution_count": 35,
   "metadata": {},
   "outputs": [
    {
     "name": "stdout",
     "output_type": "stream",
     "text": [
      "qiskit == 0.24.1\n"
     ]
    }
   ],
   "source": [
    "import numpy as np\n",
    "from numpy.linalg import matrix_rank as rank\n",
    "from itertools import product\n",
    "from bidict import bidict # bi-directional dictionary\n",
    "from numpy import sqrt, exp, mod,random\n",
    "from qiskit.quantum_info import Clifford, Pauli\n",
    "from qiskit import QuantumCircuit\n",
    "from qiskit import __version__\n",
    "\n",
    "from qiskit_aer import AerSimulator\n",
    "from qiskit_aer.noise import NoiseModel, pauli_error, ReadoutError\n",
    "\n",
    "\n",
    "print(\"qiskit ==\",__version__)"
   ]
  },
  {
   "cell_type": "markdown",
   "metadata": {},
   "source": [
    "**Reminder 1: We will use the \"natural\" ordering of Pauli instead of qiskit's ordering. By \"IZ\" we mean \"Z\" on the 2nd qubit.**\n",
    "\n",
    "This is different from Qiskit convention, so we need to reserve the Pauli strings when needed.\n",
    "\n",
    "**Reminder 2: $P$.evolve($C$) gives $C^\\dagger PC$ (Heisenberg picture). For Schrodinger picture uses $P$.evolve($C$.adjoint()).**"
   ]
  },
  {
   "cell_type": "code",
   "execution_count": 36,
   "metadata": {},
   "outputs": [],
   "source": [
    "### Help functions\n",
    "from itertools import chain, combinations\n",
    "def powerset(iterable):\n",
    "    \"powerset([1,2,3]) --> (1,) (2,) (3,) (1,2) (1,3) (2,3) (1,2,3). Empty set is excluded.\"\n",
    "    s = list(iterable)\n",
    "    return chain.from_iterable(combinations(s, r) for r in range(1,len(s)+1))\n",
    "\n",
    "def pt(pauli):\n",
    "    pattern = []\n",
    "    for p in pauli:\n",
    "        if p == 'I':\n",
    "            pattern.append(0)\n",
    "        else:\n",
    "            pattern.append(1)\n",
    "    return(pattern) \n"
   ]
  },
  {
   "cell_type": "markdown",
   "metadata": {},
   "source": [
    "## Step 1. Set up model"
   ]
  },
  {
   "cell_type": "markdown",
   "metadata": {},
   "source": [
    "### Define gateset\n",
    "\n",
    "By default, a length-$m$ gate sequence is given by $G_mU_m\\cdots G_2U_2G_1U_1$, where $G_i$ is a layer of entangling Clifford gates while $U_i$ is a layer of single-qubit gates.\n",
    "\n",
    "Each Clifford layer is specified by its stabilizer & destabilizer"
   ]
  },
  {
   "cell_type": "code",
   "execution_count": 37,
   "metadata": {},
   "outputs": [
    {
     "name": "stdout",
     "output_type": "stream",
     "text": [
      "gate 1\n",
      "           \n",
      " q_0: ──■──\n",
      "      ┌─┴─┐\n",
      " q_1: ┤ X ├\n",
      "      └───┘\n",
      " q_2: ──■──\n",
      "      ┌─┴─┐\n",
      " q_3: ┤ X ├\n",
      "      └───┘\n",
      " q_4: ──■──\n",
      "      ┌─┴─┐\n",
      " q_5: ┤ X ├\n",
      "      └───┘\n",
      " q_6: ──■──\n",
      "      ┌─┴─┐\n",
      " q_7: ┤ X ├\n",
      "      └───┘\n",
      " q_8: ──■──\n",
      "      ┌─┴─┐\n",
      " q_9: ┤ X ├\n",
      "      └───┘\n",
      "q_10: ──■──\n",
      "      ┌─┴─┐\n",
      "q_11: ┤ X ├\n",
      "      └───┘\n",
      "gate 2\n",
      "           ┌───┐\n",
      " q_0: ─────┤ X ├\n",
      "           └─┬─┘\n",
      " q_1: ──■────┼──\n",
      "      ┌─┴─┐  │  \n",
      " q_2: ┤ X ├──┼──\n",
      "      └───┘  │  \n",
      " q_3: ──■────┼──\n",
      "      ┌─┴─┐  │  \n",
      " q_4: ┤ X ├──┼──\n",
      "      └───┘  │  \n",
      " q_5: ──■────┼──\n",
      "      ┌─┴─┐  │  \n",
      " q_6: ┤ X ├──┼──\n",
      "      └───┘  │  \n",
      " q_7: ──■────┼──\n",
      "      ┌─┴─┐  │  \n",
      " q_8: ┤ X ├──┼──\n",
      "      └───┘  │  \n",
      " q_9: ──■────┼──\n",
      "      ┌─┴─┐  │  \n",
      "q_10: ┤ X ├──┼──\n",
      "      └───┘  │  \n",
      "q_11: ───────■──\n",
      "                \n"
     ]
    }
   ],
   "source": [
    "n =  12 # system size\n",
    "isOpenBoundary = False\n",
    "assert mod(n,4)==0, \"num of qubits not a multiple of 4\"\n",
    "\n",
    "ng = 2 # number of hard layers\n",
    "\n",
    "if isOpenBoundary is True:\n",
    "    nnlist = [(i,i+1) for i in range(n-1)] # nearest-neighbor on a line (open boundary)\n",
    "else:\n",
    "    nnlist = [(i,mod(i+1,n)) for i in range(n)] # nearest-neighbor on a ring\n",
    "\n",
    "gate = {} # non-parallel CZ's on a ring\n",
    "qc_list = []\n",
    "cliff_list = []\n",
    "\n",
    "#layer 1\n",
    "qc = QuantumCircuit(n)\n",
    "for i in range(n>>1):\n",
    "    qc.cx(2*i, 2*i+1)\n",
    "print(\"gate 1\")\n",
    "print(qc)\n",
    "qc1 = qc\n",
    "cliff1 = Clifford(qc)\n",
    "qc_list.append(qc)\n",
    "cliff_list.append(cliff1)\n",
    "gate[('layer1',)] = cliff1\n",
    "\n",
    "#layer 2\n",
    "qc = QuantumCircuit(n)\n",
    "for i in range(n>>1):\n",
    "    if isOpenBoundary and 2*i+2 == n: continue # add this to ensure open boundary\n",
    "    qc.cx(2*i+1, mod(2*i+2,n))\n",
    "print(\"gate 2\")\n",
    "print(qc)\n",
    "qc2 = qc\n",
    "cliff2 = Clifford(qc)\n",
    "qc_list.append(qc)\n",
    "cliff_list.append(cliff2)\n",
    "gate[('layer2',)] = cliff2"
   ]
  },
  {
   "cell_type": "markdown",
   "metadata": {},
   "source": [
    "### Define reduced noise model\n",
    "\n",
    "params[num_of_index] = parameter_label"
   ]
  },
  {
   "cell_type": "code",
   "execution_count": 38,
   "metadata": {},
   "outputs": [
    {
     "name": "stdout",
     "output_type": "stream",
     "text": [
      "[(0,), (1,), (2,), (3,), (4,), (5,), (6,), (7,), (8,), (9,), (10,), (11,), (0, 1), (1, 2), (2, 3), (3, 4), (4, 5), (5, 6), (6, 7), (7, 8), (8, 9), (9, 10), (10, 11), (0, 11)]\n"
     ]
    }
   ],
   "source": [
    "### Specify locality constraints\n",
    "\n",
    "# 2-local nearest neighbor\n",
    "wtmax = 2\n",
    "faclist = [(k,) for k in range(n)] + [(k,k+1) for k in range(n-1)] # need this to be hashable\n",
    "\n",
    "if not isOpenBoundary:\n",
    "    faclist.append((0,n-1))\n",
    "\n",
    "print(faclist)\n",
    "\n",
    "### no-crosstalk\n",
    "# wtmax = 1 # maximum weight\n",
    "# faclist = [(k,) for k in range(n)] # need this to be hashable\n",
    "# faclist"
   ]
  },
  {
   "cell_type": "code",
   "execution_count": 39,
   "metadata": {},
   "outputs": [
    {
     "name": "stdout",
     "output_type": "stream",
     "text": [
      "num of parameters: 336\n"
     ]
    }
   ],
   "source": [
    "### Add noise parameters\n",
    "\n",
    "param = bidict()\n",
    "npar = 0\n",
    "# state-preparation (SP)\n",
    "for fac in faclist:\n",
    "    param[npar] = ('S',fac)\n",
    "    npar += 1\n",
    "# measurement (M)\n",
    "for fac in faclist:\n",
    "    param[npar] = ('M',fac)\n",
    "    npar += 1\n",
    "nspam = npar\n",
    "# Gate\n",
    "for gindex in gate.keys():\n",
    "    for fac in faclist:\n",
    "        wt = len(fac)\n",
    "        for P in list(product(['X','Y','Z'],repeat=wt)):\n",
    "            param[npar] = (*gindex, fac, P)\n",
    "            npar += 1\n",
    "\n",
    "print(\"num of parameters:\",npar)\n",
    "# for key,value in param.items():\n",
    "#     print(key,value)"
   ]
  },
  {
   "cell_type": "code",
   "execution_count": 40,
   "metadata": {},
   "outputs": [],
   "source": [
    "### define embedding map\n",
    "\n",
    "def add_M_noise(eqs,P): # P is natural ordering\n",
    "    pattern = pt(P)\n",
    "    # for k in range(len(pattern)):\n",
    "    #     if pattern[k] != 0:\n",
    "    #         indx = param.inverse[('M', (k,))]\n",
    "    #         eqs[indx] += 1\n",
    "    for fac in faclist:\n",
    "        flag = True\n",
    "        for loc in fac:\n",
    "            if pattern[loc] == 0: \n",
    "                flag = False\n",
    "        if flag: eqs[param.inverse[('M', fac)]] += 1\n",
    "\n",
    "def add_S_noise(eqs,P): # P is natural ordering\n",
    "    # assert(('X' not in P) and ('Y' not in P))\n",
    "    ### If we assume always choosing the correct input basis, can omit\n",
    "    pattern = pt(P)\n",
    "    # for k in range(len(pattern)):\n",
    "    #     if pattern[k] != 0:\n",
    "    #         indx = param.inverse[('S', (k,))]\n",
    "    #         eqs[indx] += 1\n",
    "    for fac in faclist:\n",
    "        flag = True\n",
    "        for loc in fac:\n",
    "            if pattern[loc] == 0: \n",
    "                flag = False\n",
    "        if flag: \n",
    "            eqs[param.inverse[('S', fac)]] += 1\n",
    "\n",
    "\n",
    "def add_G_noise(eqs,g,P): # P is natural ordering\n",
    "  \n",
    "    if (g[0]=='layer1') or (g[0]=='layer2'):\n",
    "        pattern = pt(P)  \n",
    "        for fac in faclist:\n",
    "            flag = True\n",
    "            for loc in fac:\n",
    "                if pattern[loc] == 0: \n",
    "                    flag = False\n",
    "            if flag: \n",
    "                indx = param.inverse[(g[0],fac,tuple([P[i] for i in fac]))]\n",
    "                eqs[indx] += 1\n",
    "\n",
    "    else:\n",
    "        pass\n"
   ]
  },
  {
   "cell_type": "markdown",
   "metadata": {},
   "source": [
    "## Step 2. Import experimental designs and compute rank"
   ]
  },
  {
   "cell_type": "code",
   "execution_count": 41,
   "metadata": {},
   "outputs": [],
   "source": [
    "#help functions\n",
    "def getEq(C,Q):\n",
    "    \"Gate the row of the design matrix with gate sequence C and Pauli observable Q\"\n",
    "\n",
    "    one_eqs = np.zeros(npar,dtype=int)\n",
    "\n",
    "    # M noise\n",
    "    add_M_noise(one_eqs, Q)\n",
    "\n",
    "    # Gate sequence noise\n",
    "    for g in C[::-1]:\n",
    "        if g[0]=='cx':\n",
    "            cliff = gate[('cx',g[1])]\n",
    "            # print(cliff)\n",
    "            # print(Q)\n",
    "            Q = Pauli(Q[::-1]).evolve(Clifford(cliff)).to_label()[-n:][::-1] #drop a possible pm sign\n",
    "            add_G_noise(one_eqs,g,Q)\n",
    "        elif g[0]=='ss':\n",
    "            (i,j) = g[1]\n",
    "            qc = QuantumCircuit(n)\n",
    "            qc.s([i,j])\n",
    "            cliff = Clifford(qc)\n",
    "            Q = Pauli(Q[::-1]).evolve(Clifford(cliff)).to_label()[-n:][::-1] #drop a possible pm sign\n",
    "        elif g[0]=='szsx':\n",
    "            qc = QuantumCircuit(n)\n",
    "            [qc.s(i) for i in range(n) if i % 2 == 0]\n",
    "            [qc.sx(i) for i in range(n) if i % 2 == 1]\n",
    "            cliff = Clifford(qc)\n",
    "            Q = Pauli(Q[::-1]).evolve(Clifford(cliff)).to_label()[-n:][::-1] #drop a possible pm sign\n",
    "        elif g[0]=='szsx2':\n",
    "            qc = QuantumCircuit(n)\n",
    "            [qc.s(i) for i in range(n) if i % 2 == 1]\n",
    "            [qc.sx(i) for i in range(n) if i % 2 == 0]\n",
    "            cliff = Clifford(qc)\n",
    "            Q = Pauli(Q[::-1]).evolve(Clifford(cliff)).to_label()[-n:][::-1] #drop a possible pm sign\n",
    "        elif g[0]=='hn':\n",
    "            qc = QuantumCircuit(n)\n",
    "            [qc.h(i) for i in range(n)]\n",
    "            cliff = Clifford(qc)\n",
    "            Q = Pauli(Q[::-1]).evolve(Clifford(cliff)).to_label()[-n:][::-1] #drop a possible pm sign\n",
    "        elif g[0]=='layer1':\n",
    "            Q = Pauli(Q[::-1]).evolve(cliff1).to_label()[-n:][::-1] #drop a possible pm sign\n",
    "            add_G_noise(one_eqs,g,Q)\n",
    "        elif g[0]=='layer2':\n",
    "            Q = Pauli(Q[::-1]).evolve(cliff2).to_label()[-n:][::-1] #drop a possible pm sign\n",
    "            add_G_noise(one_eqs,g,Q)\n",
    "        elif g[0]=='sn':\n",
    "            qc = QuantumCircuit(n)\n",
    "            qc.s(list(range(n)))\n",
    "            cliff = Clifford(qc)\n",
    "            Q = Pauli(Q[::-1]).evolve(Clifford(cliff)).to_label()[-n:][::-1] #drop a possible pm sign\n",
    "        else: assert 1==0, \"gate undefined\"\n",
    "            \n",
    "    # S noise\n",
    "    add_S_noise(one_eqs, Q)\n",
    "\n",
    "    return one_eqs\n",
    "\n",
    "def interpret(eqs):\n",
    "    \"Print one row of design matrix in a readable way\"\n",
    "    for k,cnts in enumerate(eqs):\n",
    "        if cnts!=0:\n",
    "            print(cnts, param[k])\n",
    "\n",
    "def getCircuit(C):\n",
    "    \"gate qiskit circuit from gate sequence\"\n",
    "    qc = QuantumCircuit(n)\n",
    "    for g in C:\n",
    "        if g[0] == 'cx':\n",
    "            qc.cx(g[1][0],g[1][1])\n",
    "        elif g[0] == 'ss':\n",
    "            qc.s(g[1])\n",
    "        elif g[0] == 'sx':\n",
    "            qc.sx(g[1])\n",
    "        elif g[0] == 'sn':\n",
    "            qc.s(range(n))\n",
    "        elif g[0] == 'szsx':\n",
    "            [qc.s(i) for i in range(n) if i % 2 == 0]\n",
    "            [qc.sx(i) for i in range(n) if i % 2 == 1]\n",
    "        elif g[0] == 'szsx2':\n",
    "            [qc.s(i) for i in range(n) if i % 2 == 1]\n",
    "            [qc.sx(i) for i in range(n) if i % 2 == 0]\n",
    "        elif g[0] == 'hn':\n",
    "            [qc.h(i) for i in range(n)]\n",
    "        elif g[0] == 'layer1':\n",
    "            # qc = qc.compose(cliff1.to_circuit())\n",
    "            # qc = cliff1.to_circuit()\n",
    "            # qc.cz(0,1)\n",
    "            # for i in range(n>>1):\n",
    "            #     qc.cz(2*i, mod(2*i+1,n))\n",
    "            qc = qc.compose(qc1)\n",
    "        elif g[0] == 'layer2':\n",
    "            # qc = qc.compose(cliff2.to_circuit())\n",
    "            # qc.cz(1,2)\n",
    "            # for i in range(n>>1):\n",
    "            #     if isOpenBoundary:\n",
    "            #         if 2*i+2 == n: continue\n",
    "            #         qc.cz(2*i+1, mod(2*i+2,n))\n",
    "            qc = qc.compose(qc2)\n",
    "        else: assert 1==0, \"gate undefined\"\n",
    "    return qc\n",
    "\n",
    "def addExp(design_mat, exp_list, C,P):\n",
    "    \"One row update of the designe matrix\"\n",
    "    design_mat = np.vstack([design_mat, getEq(C,P)])\n",
    "    exp_list.append((C,P))\n",
    "    return design_mat, exp_list\n",
    "\n",
    "\n",
    "# np.vstack([design_mat,experiment(1,2)])"
   ]
  },
  {
   "cell_type": "markdown",
   "metadata": {},
   "source": [
    "### Simple design: only depth 0/1"
   ]
  },
  {
   "cell_type": "code",
   "execution_count": 42,
   "metadata": {},
   "outputs": [
    {
     "name": "stdout",
     "output_type": "stream",
     "text": [
      "shape / rank / learnable DOFs\n",
      "(12, 336) 12 324\n",
      "(24, 336) 24 324\n",
      "(96, 336) 96 324\n"
     ]
    },
    {
     "name": "stdout",
     "output_type": "stream",
     "text": [
      "(312, 336) 312 324\n",
      "(324, 336) 324 324\n"
     ]
    }
   ],
   "source": [
    "design_mat = np.array(np.empty((0,npar),dtype=int))\n",
    "exp_list = []\n",
    "\n",
    "print(\"shape / rank / learnable DOFs\")\n",
    "\n",
    "#depth 0\n",
    "#weight 1\n",
    "for k in range(n):\n",
    "    P0 = \"Z\" + \"I\"*(n-1)\n",
    "    P = \"\".join([P0[mod(j-k,n)] for j in range(n)])\n",
    "    design_mat,exp_list = addExp(design_mat,exp_list,[],P)\n",
    "\n",
    "print(np.shape(design_mat), rank(design_mat), npar-n)\n",
    "\n",
    "#weight 2\n",
    "for k in range(n):\n",
    "    P0 = \"ZZ\" + \"I\"*(n-2)\n",
    "    P = \"\".join([P0[mod(j-k,n)] for j in range(n)])\n",
    "    design_mat,exp_list = addExp(design_mat,exp_list,[],P)\n",
    "\n",
    "print(np.shape(design_mat), rank(design_mat), npar-n)\n",
    "\n",
    "#depth 1\n",
    "#weight 1\n",
    "for k in range(n):\n",
    "    for P0 in [\"X\",\"Y\",\"Z\"]:\n",
    "        P0 = P0 + \"I\"*(n-1)\n",
    "        P = \"\".join([P0[mod(j-k,n)] for j in range(n)])\n",
    "        design_mat,exp_list = addExp(design_mat,exp_list,[(\"layer1\",)],P)\n",
    "        design_mat,exp_list = addExp(design_mat,exp_list,[(\"layer2\",)],P)\n",
    "    \n",
    "print(np.shape(design_mat), rank(design_mat), npar-n)\n",
    "\n",
    "#weight 2\n",
    "for k in range(n):\n",
    "    for P0 in product(['X','Y','Z'],repeat=2):\n",
    "        P0 = \"\".join(P0)\n",
    "        P0 = P0 + 'I'*(n-2)\n",
    "        P = \"\".join([P0[mod(j-k,n)] for j in range(n)])\n",
    "        design_mat,exp_list = addExp(design_mat,exp_list,[(\"layer1\",)],P)\n",
    "        design_mat,exp_list = addExp(design_mat,exp_list,[(\"layer2\",)],P)\n",
    "\n",
    "print(np.shape(design_mat), rank(design_mat), npar-n)\n",
    "\n",
    "#weight 2 (but not nearest-neighbor)\n",
    "for k in range(n):\n",
    "    P0 = \"XIIZ\"\n",
    "    P0 = P0 + 'I'*(n-len(P0))\n",
    "    P = \"\".join([P0[mod(j-k,n)] for j in range(n)])\n",
    "    # print(P)\n",
    "    if mod(k,2)==0:\n",
    "        design_mat,exp_list = addExp(design_mat,exp_list,[(\"layer1\",)],P)\n",
    "    else:\n",
    "        design_mat,exp_list = addExp(design_mat,exp_list,[(\"layer2\",)],P)\n",
    "        \n",
    "\n",
    "print(np.shape(design_mat), rank(design_mat), npar-n)"
   ]
  },
  {
   "cell_type": "code",
   "execution_count": 43,
   "metadata": {},
   "outputs": [],
   "source": [
    "### print all depth-0/1 experiments\n",
    "test_exp_list = []\n",
    "\n",
    "for k in range(np.shape(design_mat)[0]):\n",
    "    # print(\"---------\")\n",
    "    # print(\"Sequence:\",exp_list[k])\n",
    "    temp_circ = getCircuit(exp_list[k][0])\n",
    "    temp_pauli = exp_list[k][1]\n",
    "    temp_pauli_sp = Pauli(temp_pauli[::-1]).evolve(Clifford(temp_circ)).to_label()[-n:][::-1]\n",
    "    # print(temp_circ)\n",
    "    # print(\"Input:\", temp_pauli_sp, \"Measure:\", exp_list[k][1])\n",
    "    # interpret(design_mat[k,:])\n",
    "\n",
    "\n",
    "    test_exp_list.append((temp_pauli_sp,exp_list[k][1],exp_list[k][0]))\n",
    "    "
   ]
  },
  {
   "cell_type": "markdown",
   "metadata": {},
   "source": [
    "### Design for amplifying gate noise"
   ]
  },
  {
   "cell_type": "markdown",
   "metadata": {},
   "source": [
    "The following experiments does not add more DOF, but help amplify certain gate noise parameters."
   ]
  },
  {
   "cell_type": "code",
   "execution_count": 44,
   "metadata": {},
   "outputs": [],
   "source": [
    "### List of depth\n",
    "# depth_list = [2,4,8] # please adjust to appropriate \n",
    "depth_list = [2]"
   ]
  },
  {
   "cell_type": "code",
   "execution_count": 45,
   "metadata": {},
   "outputs": [
    {
     "name": "stdout",
     "output_type": "stream",
     "text": [
      "(588, 336) 299 324\n"
     ]
    }
   ],
   "source": [
    "design_mat2 = np.array(np.empty((0,npar),dtype=int))\n",
    "exp_list2 = []\n",
    "\n",
    "for depth in depth_list:\n",
    "    for fac in faclist:\n",
    "        wt = len(fac)\n",
    "        for Ploc in product(['X','Y','Z'],repeat=wt):\n",
    "            P = []\n",
    "            for _j in range(n):\n",
    "                if _j not in fac:\n",
    "                    P.append(\"I\")\n",
    "                else:\n",
    "                    P.append(Ploc[fac.index(_j)])\n",
    "            P = \"\".join(P)\n",
    "            # print(P)\n",
    "\n",
    "            design_mat2,exp_list2 = addExp(design_mat2,exp_list2,[(\"layer1\",)]*depth,P)\n",
    "            design_mat2,exp_list2 = addExp(design_mat2,exp_list2,[(\"layer2\",)]*depth,P)\n",
    "            design_mat2,exp_list2 = addExp(design_mat2,exp_list2,[('szsx',),(\"layer1\",)]*depth,P)\n",
    "            design_mat2,exp_list2 = addExp(design_mat2,exp_list2,[('szsx2',),(\"layer2\",)]*depth,P)\n",
    "\n",
    "\n",
    "\n",
    "### weight3 & relational terms\n",
    "### optional\n",
    "for depth in depth_list:\n",
    "    for k in range(n):\n",
    "        P0 = \"YIY\" \n",
    "        P0 = P0 + 'I'*(n-len(P0))\n",
    "        P = \"\".join([P0[mod(j-k,n)] for j in range(n)])\n",
    "        design_mat2,exp_list2 = addExp(design_mat2,exp_list2,[('hn',),(\"layer1\",),('hn',),(\"layer2\",)]*depth,P) # CNOT layers do not commute. Add Hadamard to form cycles.\n",
    "\n",
    "\n",
    "\n",
    "print(np.shape(design_mat2), rank(design_mat2), npar-n)\n"
   ]
  },
  {
   "cell_type": "code",
   "execution_count": 46,
   "metadata": {},
   "outputs": [],
   "source": [
    "# pcolormesh(design_mat2[:,:])\n"
   ]
  },
  {
   "cell_type": "code",
   "execution_count": 47,
   "metadata": {},
   "outputs": [],
   "source": [
    "### print all amplified experiments\n",
    "\n",
    "test_exp_rel = []\n",
    "\n",
    "for k in range(np.shape(design_mat2)[0]):\n",
    "    # print(\"---------\")\n",
    "    # print(\"Sequence:\",exp_list2[k])\n",
    "    temp_circ = getCircuit(exp_list2[k][0])\n",
    "    temp_pauli = exp_list2[k][1]\n",
    "    temp_pauli_sp = Pauli(temp_pauli[::-1]).evolve(Clifford(temp_circ)).to_label()[-n:][::-1]\n",
    "    # print(temp_circ)\n",
    "    # print(\"Input:\", temp_pauli_sp, \"Measure:\", exp_list2[k][1])\n",
    "    # interpret(design_mat2[k,:])\n",
    "\n",
    "    test_exp_rel.append((temp_pauli_sp,exp_list2[k][1],exp_list2[k][0]))\n"
   ]
  },
  {
   "cell_type": "code",
   "execution_count": 48,
   "metadata": {},
   "outputs": [
    {
     "name": "stdout",
     "output_type": "stream",
     "text": [
      "nspam = 48\n",
      "(588, 288) 276 276\n"
     ]
    }
   ],
   "source": [
    "### verify gate learnable\n",
    "print(\"nspam =\",nspam)\n",
    "design_mat_rel = np.array(np.empty((0,npar-nspam),dtype=int))\n",
    "for k in range(len(exp_list2)):\n",
    "    eqs = design_mat2[k,:]\n",
    "    not_rel = False\n",
    "    for fac in faclist:\n",
    "        if (eqs[param.inverse[('S',fac)]]!=eqs[param.inverse[('M',fac)]]):\n",
    "            not_rel = True\n",
    "            break\n",
    "    if not_rel is True: continue\n",
    "    design_mat_rel = np.vstack([design_mat_rel,eqs[nspam:]])\n",
    "\n",
    "print(np.shape(design_mat_rel), rank(design_mat_rel), npar - nspam - n)"
   ]
  },
  {
   "cell_type": "markdown",
   "metadata": {},
   "source": [
    "## Step 3. Parallel design\n",
    "\n",
    "Compile design matrix into qiskit circuits\n"
   ]
  },
  {
   "cell_type": "code",
   "execution_count": 49,
   "metadata": {},
   "outputs": [],
   "source": [
    "### help functions\n",
    "def prepare_pauli_eigenstate_1q(circuit,index,pauli=None):\n",
    "\t# if pauli == 'I':\n",
    "\t# \tpauli = random.choice(['X','Y','Z']) \n",
    "\t# note: For Pauli I, prepare an arbitrary eigenstate.\n",
    "\tif pauli == 'Z' or pauli == 'I':\n",
    "\t\tcircuit.id([index])\n",
    "\telif pauli == 'X':\n",
    "\t\tcircuit.h([index])\n",
    "\telif pauli == 'Y':\n",
    "\t\tcircuit.h([index])\n",
    "\t\tcircuit.s([index])\n",
    "\telse:\n",
    "\t\tassert 1==0\n",
    "\n",
    "def pauli_gate_1q(circuit,index,pauli=None): #For stabilizer simulator to work, cannot use Pauli class\n",
    "\tif pauli == 'I':\n",
    "\t\tcircuit.id([index])\n",
    "\telif pauli == 'Z':\n",
    "\t\tcircuit.z([index])\n",
    "\telif pauli == 'X':\n",
    "\t\tcircuit.x([index])\n",
    "\telif pauli == 'Y':\n",
    "\t\tcircuit.y([index])\n",
    "\telse:\n",
    "\t\tassert 1==0\n",
    "\n",
    "def measure_pauli_1q(circuit,index,pauli=None):\n",
    "\tif pauli == 'I' or pauli == 'Z':\n",
    "\t\tcircuit.id([index])\n",
    "\telif pauli == 'X':\n",
    "\t\tcircuit.h([index])\n",
    "\telif pauli == 'Y':\n",
    "\t\tcircuit.s([index])\n",
    "\t\tcircuit.s([index])\n",
    "\t\tcircuit.s([index])\n",
    "\t\tcircuit.h([index])\n",
    "\telse:\n",
    "\t\tassert 1==0\n",
    "\n",
    "def my_evolve(Q,cliff,signed=False): # natural ordering instead of qiskit ordering\n",
    "\tif not signed:\n",
    "\t\treturn Pauli(Q[::-1]).evolve(Clifford(cliff)).to_label()[-n:][::-1] #drop a possible pm sign\n",
    "\telse:\n",
    "\t\treturn Pauli(Q[::-1]).evolve(Clifford(cliff)).to_label()[::-1]\n",
    "\n",
    "def add_circ(Q,P,qc_gate):\n",
    "\tqc = QuantumCircuit(n)\n",
    "\tfor j in range(n):\n",
    "\t\tprepare_pauli_eigenstate_1q(qc,j,Q[j])\n",
    "\tqc.barrier()\n",
    "\tqc = qc.compose(qc_gate)\n",
    "\tqc.barrier()\n",
    "\tfor j in range(n):\n",
    "\t\tmeasure_pauli_1q(qc,j,P[j])\n",
    "\t# print(Q,P,k)\n",
    "\t# print(qc)\n",
    "\tqc.measure_all()\n",
    "\treturn qc"
   ]
  },
  {
   "cell_type": "code",
   "execution_count": 50,
   "metadata": {},
   "outputs": [
    {
     "data": {
      "text/plain": [
       "55"
      ]
     },
     "execution_count": 50,
     "metadata": {},
     "output_type": "execute_result"
    }
   ],
   "source": [
    "circ_list = []\n",
    "raw_exp_list = []\n",
    "\n",
    "#depth 0\n",
    "qc=QuantumCircuit(n)\n",
    "qc.measure_all()\n",
    "qc.draw()\n",
    "circ_list.append(qc)\n",
    "raw_exp_list.append((\"Z\"*n,\"Z\"*n,[]))\n",
    "\n",
    "#depth 1\n",
    "for k in range(2):\n",
    "    # print(k)\n",
    "    cliff = cliff_list[k]\n",
    "    qck = qc_list[k]\n",
    "    label = [(\"layer1\",),(\"layer2\",)][k]\n",
    "    # print(label)\n",
    "\n",
    "    #aligned\n",
    "    for P in product([\"X\",\"Y\",\"Z\"],repeat=2):\n",
    "        if P == (\"I\",\"I\"): continue\n",
    "        P = \"\".join(P)*(n>>1) # measure P\n",
    "        Q = my_evolve(P,cliff) # Input Q\n",
    "        qc = add_circ(Q,P,qck)\n",
    "        circ_list.append(qc)\n",
    "        raw_exp_list.append((Q,P,[label]))\n",
    "        \n",
    "    #between\n",
    "    for P0 in product([\"X\",\"Y\",\"Z\"],repeat=2):\n",
    "        P0 = (\"I\"+\"\".join(P0)+\"I\") * (n>>2) # measure P\n",
    "        for shift in [k,k+2]:\n",
    "            P = \"\".join([P0[mod(j-shift,n)] for j in range(n)])\n",
    "            Q = my_evolve(P,cliff) # Input Q\n",
    "            # print(Q,P)\n",
    "            qc = add_circ(Q,P,qck)\n",
    "            circ_list.append(qc)\n",
    "            raw_exp_list.append((Q,P,[label]))\n",
    "        \n",
    "len(raw_exp_list) #, raw_exp_list"
   ]
  },
  {
   "cell_type": "code",
   "execution_count": 51,
   "metadata": {},
   "outputs": [],
   "source": [
    "#help functions\n",
    "def majby(a,b):\n",
    "    \"Return True if a is majorized by b.\"\n",
    "    assert len(a)==len(b)\n",
    "    flag = True\n",
    "    for k in range(len(a)):\n",
    "        if a[k] != \"I\" and b[k] != a[k]:\n",
    "            flag = False\n",
    "            break\n",
    "    return flag"
   ]
  },
  {
   "cell_type": "code",
   "execution_count": 52,
   "metadata": {},
   "outputs": [
    {
     "name": "stdout",
     "output_type": "stream",
     "text": [
      "Not found cnt: 0\n"
     ]
    }
   ],
   "source": [
    "### Validate completeness of parllel circuits\n",
    "nfl = []\n",
    "from_circ = [] # from which raw exp? (index)\n",
    "\n",
    "for (Q,P,circ) in test_exp_list:\n",
    "    # print(Q,P,circ)\n",
    "    found = False\n",
    "    for (ci, (Q1,P1,circ1)) in enumerate(raw_exp_list):\n",
    "        if circ==circ1 and majby(Q,Q1) and majby(P,P1):\n",
    "            found = True\n",
    "            from_circ.append(ci)\n",
    "            # print(\"from\", Q1,P1,circ1)\n",
    "            break\n",
    "    if not found: \n",
    "        # print(\"not found\")\n",
    "        from_circ.append(-1)\n",
    "        nfl.append((Q,P,circ))\n",
    "\n",
    "# for expexp in nfl: print(expexp)\n",
    "print(\"Not found cnt:\",len(nfl))"
   ]
  },
  {
   "cell_type": "code",
   "execution_count": 53,
   "metadata": {},
   "outputs": [
    {
     "data": {
      "text/plain": [
       "(55, 51)"
      ]
     },
     "execution_count": 53,
     "metadata": {},
     "output_type": "execute_result"
    }
   ],
   "source": [
    "# Throw away circuits that are not used\n",
    "select = [False] * len(raw_exp_list)\n",
    "for ind in from_circ:\n",
    "    select[ind] = True\n",
    "\n",
    "raw_exp_opt = []\n",
    "circ_opt = []\n",
    "for ind in range(len(raw_exp_list)):\n",
    "    if select[ind]:\n",
    "        raw_exp_opt.append(raw_exp_list[ind])\n",
    "        circ_opt.append(circ_list[ind])\n",
    "\n",
    "len(raw_exp_list), len(raw_exp_opt)"
   ]
  },
  {
   "cell_type": "markdown",
   "metadata": {},
   "source": [
    "### Alternative design: relative precision estimation\n",
    "\n",
    "I set gate depth as 2 for simplicity. In practice it can be a sequence looks like [2,4,8,16,32,...]"
   ]
  },
  {
   "cell_type": "code",
   "execution_count": 54,
   "metadata": {},
   "outputs": [
    {
     "data": {
      "text/plain": [
       "38"
      ]
     },
     "execution_count": 54,
     "metadata": {},
     "output_type": "execute_result"
    }
   ],
   "source": [
    "circ_rel = []\n",
    "raw_exp_rel = []\n",
    "\n",
    "# 1 gate\n",
    "for depth in depth_list:\n",
    "    for k in range(2):\n",
    "        # print(k)\n",
    "        cliff = cliff_list[k]\n",
    "        qck = qc_list[k]\n",
    "        label = [(\"layer1\",),(\"layer2\",)][k]\n",
    "\n",
    "        #align\n",
    "        for P in product([\"X\",\"Y\",\"Z\"],repeat=2):\n",
    "            P = \"\".join(P)*(n>>1) # measure P, input P, cycle\n",
    "\n",
    "            seq = [label]*depth\n",
    "            qc = add_circ(P,P,getCircuit(seq))\n",
    "            circ_rel.append(qc)\n",
    "            raw_exp_rel.append((P,P,seq))\n",
    "            \n",
    "            if k == 0:\n",
    "                seq = [(\"szsx\",),label]*depth\n",
    "            else:\n",
    "                seq = [(\"szsx2\",),label]*depth\n",
    "            qc = add_circ(P,P,getCircuit(seq))\n",
    "            circ_rel.append(qc)\n",
    "            raw_exp_rel.append((P,P,seq))\n",
    "\n",
    "\n",
    "# 2 gate \n",
    "# optional\n",
    "for depth in depth_list:\n",
    "    P = \"YI\" * (n>>1)\n",
    "    # seq = [(\"layer1\",),(\"layer2\",)]*2\n",
    "    seq = [(\"hn\",),(\"layer1\",),(\"hn\",),(\"layer2\",)]*depth\n",
    "    qc = add_circ(P,P,getCircuit(seq))\n",
    "    circ_rel.append(qc)\n",
    "    raw_exp_rel.append((P,P,seq))\n",
    "\n",
    "    P = \"IY\" * (n>>1)\n",
    "    seq = [(\"hn\",),(\"layer1\",),(\"hn\",),(\"layer2\",)]*depth\n",
    "    qc = add_circ(P,P,getCircuit(seq))\n",
    "    circ_rel.append(qc)\n",
    "    raw_exp_rel.append((P,P,seq))\n",
    "\n",
    "len(raw_exp_rel)"
   ]
  },
  {
   "cell_type": "code",
   "execution_count": 55,
   "metadata": {},
   "outputs": [
    {
     "name": "stdout",
     "output_type": "stream",
     "text": [
      "Not found cnt: 0\n"
     ]
    }
   ],
   "source": [
    "# for circ in circ_rel: print(circ)\n",
    "\n",
    "#Validate completeness of parllel circuits\n",
    "nfl_rel = []\n",
    "from_circ_rel = [] # from which raw exp? (index)\n",
    "\n",
    "for (Q,P,circ) in test_exp_rel:\n",
    "    # print(Q,P,circ)\n",
    "    found = False\n",
    "    for (ci, (Q1,P1,circ1)) in enumerate(raw_exp_rel):\n",
    "        if circ==circ1 and majby(Q,Q1) and majby(P,P1):\n",
    "            found = True\n",
    "            from_circ_rel.append(ci)\n",
    "            # print(\"from\", Q1,P1,circ1)\n",
    "            break\n",
    "    if not found: \n",
    "        print(Q,P,circ,\"not found\")\n",
    "        from_circ_rel.append(-1)\n",
    "        nfl_rel.append((Q,P,circ))\n",
    "\n",
    "# for expexp in nfl: print(expexp)\n",
    "print(\"Not found cnt:\",len(nfl_rel))\n"
   ]
  },
  {
   "cell_type": "code",
   "execution_count": 56,
   "metadata": {},
   "outputs": [
    {
     "data": {
      "text/plain": [
       "(38, 38)"
      ]
     },
     "execution_count": 56,
     "metadata": {},
     "output_type": "execute_result"
    }
   ],
   "source": [
    "# Throw away circuits that are not used\n",
    "select = [False] * len(raw_exp_rel)\n",
    "for ind in from_circ_rel:\n",
    "    select[ind] = True\n",
    "\n",
    "raw_exp_rel_opt = []\n",
    "circ_rel_opt = []\n",
    "for ind in range(len(raw_exp_rel)):\n",
    "    if select[ind]:\n",
    "        raw_exp_rel_opt.append(raw_exp_rel[ind])\n",
    "        circ_rel_opt.append(circ_rel[ind])\n",
    "\n",
    "len(raw_exp_rel), len(raw_exp_rel_opt)"
   ]
  },
  {
   "cell_type": "markdown",
   "metadata": {},
   "source": [
    "### Output"
   ]
  },
  {
   "cell_type": "code",
   "execution_count": 57,
   "metadata": {},
   "outputs": [],
   "source": [
    "### print design for depth-0/1 circuits\n",
    "# print(\"Depth 0/1 exps. cnt=\",len(raw_exp_list))\n",
    "# for item in raw_exp_list: print(item)"
   ]
  },
  {
   "cell_type": "code",
   "execution_count": 58,
   "metadata": {},
   "outputs": [],
   "source": [
    "### print design for amplified circuits\n",
    "# print(\"Depth for rel-prec exps. cnt=\",len(raw_exp_rel))\n",
    "# for item in raw_exp_rel: print(item)"
   ]
  },
  {
   "cell_type": "code",
   "execution_count": 59,
   "metadata": {},
   "outputs": [
    {
     "name": "stdout",
     "output_type": "stream",
     "text": [
      "('XXXXXXXXXXXX', 'XXXXXXXXXXXX', [('szsx',), ('layer1',), ('szsx',), ('layer1',)])\n"
     ]
    },
    {
     "data": {
      "text/html": [
       "<pre style=\"word-wrap: normal;white-space: pre;background: #fff0;line-height: 1.1;font-family: &quot;Courier New&quot;,Courier,monospace\">         ┌───┐ ░ ┌───┐      ┌───┐       ░ ┌───┐ ░ ┌─┐                        »\n",
       "    q_0: ┤ H ├─░─┤ S ├───■──┤ S ├───■───░─┤ H ├─░─┤M├────────────────────────»\n",
       "         ├───┤ ░ ├───┴┐┌─┴─┐├───┴┐┌─┴─┐ ░ ├───┤ ░ └╥┘┌─┐                     »\n",
       "    q_1: ┤ H ├─░─┤ √X ├┤ X ├┤ √X ├┤ X ├─░─┤ H ├─░──╫─┤M├─────────────────────»\n",
       "         ├───┤ ░ ├───┬┘└───┘├───┬┘└───┘ ░ ├───┤ ░  ║ └╥┘┌─┐                  »\n",
       "    q_2: ┤ H ├─░─┤ S ├───■──┤ S ├───■───░─┤ H ├─░──╫──╫─┤M├──────────────────»\n",
       "         ├───┤ ░ ├───┴┐┌─┴─┐├───┴┐┌─┴─┐ ░ ├───┤ ░  ║  ║ └╥┘┌─┐               »\n",
       "    q_3: ┤ H ├─░─┤ √X ├┤ X ├┤ √X ├┤ X ├─░─┤ H ├─░──╫──╫──╫─┤M├───────────────»\n",
       "         ├───┤ ░ ├───┬┘└───┘├───┬┘└───┘ ░ ├───┤ ░  ║  ║  ║ └╥┘┌─┐            »\n",
       "    q_4: ┤ H ├─░─┤ S ├───■──┤ S ├───■───░─┤ H ├─░──╫──╫──╫──╫─┤M├────────────»\n",
       "         ├───┤ ░ ├───┴┐┌─┴─┐├───┴┐┌─┴─┐ ░ ├───┤ ░  ║  ║  ║  ║ └╥┘┌─┐         »\n",
       "    q_5: ┤ H ├─░─┤ √X ├┤ X ├┤ √X ├┤ X ├─░─┤ H ├─░──╫──╫──╫──╫──╫─┤M├─────────»\n",
       "         ├───┤ ░ ├───┬┘└───┘├───┬┘└───┘ ░ ├───┤ ░  ║  ║  ║  ║  ║ └╥┘┌─┐      »\n",
       "    q_6: ┤ H ├─░─┤ S ├───■──┤ S ├───■───░─┤ H ├─░──╫──╫──╫──╫──╫──╫─┤M├──────»\n",
       "         ├───┤ ░ ├───┴┐┌─┴─┐├───┴┐┌─┴─┐ ░ ├───┤ ░  ║  ║  ║  ║  ║  ║ └╥┘┌─┐   »\n",
       "    q_7: ┤ H ├─░─┤ √X ├┤ X ├┤ √X ├┤ X ├─░─┤ H ├─░──╫──╫──╫──╫──╫──╫──╫─┤M├───»\n",
       "         ├───┤ ░ ├───┬┘└───┘├───┬┘└───┘ ░ ├───┤ ░  ║  ║  ║  ║  ║  ║  ║ └╥┘┌─┐»\n",
       "    q_8: ┤ H ├─░─┤ S ├───■──┤ S ├───■───░─┤ H ├─░──╫──╫──╫──╫──╫──╫──╫──╫─┤M├»\n",
       "         ├───┤ ░ ├───┴┐┌─┴─┐├───┴┐┌─┴─┐ ░ ├───┤ ░  ║  ║  ║  ║  ║  ║  ║  ║ └╥┘»\n",
       "    q_9: ┤ H ├─░─┤ √X ├┤ X ├┤ √X ├┤ X ├─░─┤ H ├─░──╫──╫──╫──╫──╫──╫──╫──╫──╫─»\n",
       "         ├───┤ ░ ├───┬┘└───┘├───┬┘└───┘ ░ ├───┤ ░  ║  ║  ║  ║  ║  ║  ║  ║  ║ »\n",
       "   q_10: ┤ H ├─░─┤ S ├───■──┤ S ├───■───░─┤ H ├─░──╫──╫──╫──╫──╫──╫──╫──╫──╫─»\n",
       "         ├───┤ ░ ├───┴┐┌─┴─┐├───┴┐┌─┴─┐ ░ ├───┤ ░  ║  ║  ║  ║  ║  ║  ║  ║  ║ »\n",
       "   q_11: ┤ H ├─░─┤ √X ├┤ X ├┤ √X ├┤ X ├─░─┤ H ├─░──╫──╫──╫──╫──╫──╫──╫──╫──╫─»\n",
       "         └───┘ ░ └────┘└───┘└────┘└───┘ ░ └───┘ ░  ║  ║  ║  ║  ║  ║  ║  ║  ║ »\n",
       "meas: 12/══════════════════════════════════════════╩══╩══╩══╩══╩══╩══╩══╩══╩═»\n",
       "                                                   0  1  2  3  4  5  6  7  8 »\n",
       "«                  \n",
       "«    q_0: ─────────\n",
       "«                  \n",
       "«    q_1: ─────────\n",
       "«                  \n",
       "«    q_2: ─────────\n",
       "«                  \n",
       "«    q_3: ─────────\n",
       "«                  \n",
       "«    q_4: ─────────\n",
       "«                  \n",
       "«    q_5: ─────────\n",
       "«                  \n",
       "«    q_6: ─────────\n",
       "«                  \n",
       "«    q_7: ─────────\n",
       "«                  \n",
       "«    q_8: ─────────\n",
       "«         ┌─┐      \n",
       "«    q_9: ┤M├──────\n",
       "«         └╥┘┌─┐   \n",
       "«   q_10: ─╫─┤M├───\n",
       "«          ║ └╥┘┌─┐\n",
       "«   q_11: ─╫──╫─┤M├\n",
       "«          ║  ║ └╥┘\n",
       "«meas: 12/═╩══╩══╩═\n",
       "«          9  10 11</pre>"
      ],
      "text/plain": [
       "         ┌───┐ ░ ┌───┐      ┌───┐       ░ ┌───┐ ░ ┌─┐                        »\n",
       "    q_0: ┤ H ├─░─┤ S ├───■──┤ S ├───■───░─┤ H ├─░─┤M├────────────────────────»\n",
       "         ├───┤ ░ ├───┴┐┌─┴─┐├───┴┐┌─┴─┐ ░ ├───┤ ░ └╥┘┌─┐                     »\n",
       "    q_1: ┤ H ├─░─┤ √X ├┤ X ├┤ √X ├┤ X ├─░─┤ H ├─░──╫─┤M├─────────────────────»\n",
       "         ├───┤ ░ ├───┬┘└───┘├───┬┘└───┘ ░ ├───┤ ░  ║ └╥┘┌─┐                  »\n",
       "    q_2: ┤ H ├─░─┤ S ├───■──┤ S ├───■───░─┤ H ├─░──╫──╫─┤M├──────────────────»\n",
       "         ├───┤ ░ ├───┴┐┌─┴─┐├───┴┐┌─┴─┐ ░ ├───┤ ░  ║  ║ └╥┘┌─┐               »\n",
       "    q_3: ┤ H ├─░─┤ √X ├┤ X ├┤ √X ├┤ X ├─░─┤ H ├─░──╫──╫──╫─┤M├───────────────»\n",
       "         ├───┤ ░ ├───┬┘└───┘├───┬┘└───┘ ░ ├───┤ ░  ║  ║  ║ └╥┘┌─┐            »\n",
       "    q_4: ┤ H ├─░─┤ S ├───■──┤ S ├───■───░─┤ H ├─░──╫──╫──╫──╫─┤M├────────────»\n",
       "         ├───┤ ░ ├───┴┐┌─┴─┐├───┴┐┌─┴─┐ ░ ├───┤ ░  ║  ║  ║  ║ └╥┘┌─┐         »\n",
       "    q_5: ┤ H ├─░─┤ √X ├┤ X ├┤ √X ├┤ X ├─░─┤ H ├─░──╫──╫──╫──╫──╫─┤M├─────────»\n",
       "         ├───┤ ░ ├───┬┘└───┘├───┬┘└───┘ ░ ├───┤ ░  ║  ║  ║  ║  ║ └╥┘┌─┐      »\n",
       "    q_6: ┤ H ├─░─┤ S ├───■──┤ S ├───■───░─┤ H ├─░──╫──╫──╫──╫──╫──╫─┤M├──────»\n",
       "         ├───┤ ░ ├───┴┐┌─┴─┐├───┴┐┌─┴─┐ ░ ├───┤ ░  ║  ║  ║  ║  ║  ║ └╥┘┌─┐   »\n",
       "    q_7: ┤ H ├─░─┤ √X ├┤ X ├┤ √X ├┤ X ├─░─┤ H ├─░──╫──╫──╫──╫──╫──╫──╫─┤M├───»\n",
       "         ├───┤ ░ ├───┬┘└───┘├───┬┘└───┘ ░ ├───┤ ░  ║  ║  ║  ║  ║  ║  ║ └╥┘┌─┐»\n",
       "    q_8: ┤ H ├─░─┤ S ├───■──┤ S ├───■───░─┤ H ├─░──╫──╫──╫──╫──╫──╫──╫──╫─┤M├»\n",
       "         ├───┤ ░ ├───┴┐┌─┴─┐├───┴┐┌─┴─┐ ░ ├───┤ ░  ║  ║  ║  ║  ║  ║  ║  ║ └╥┘»\n",
       "    q_9: ┤ H ├─░─┤ √X ├┤ X ├┤ √X ├┤ X ├─░─┤ H ├─░──╫──╫──╫──╫──╫──╫──╫──╫──╫─»\n",
       "         ├───┤ ░ ├───┬┘└───┘├───┬┘└───┘ ░ ├───┤ ░  ║  ║  ║  ║  ║  ║  ║  ║  ║ »\n",
       "   q_10: ┤ H ├─░─┤ S ├───■──┤ S ├───■───░─┤ H ├─░──╫──╫──╫──╫──╫──╫──╫──╫──╫─»\n",
       "         ├───┤ ░ ├───┴┐┌─┴─┐├───┴┐┌─┴─┐ ░ ├───┤ ░  ║  ║  ║  ║  ║  ║  ║  ║  ║ »\n",
       "   q_11: ┤ H ├─░─┤ √X ├┤ X ├┤ √X ├┤ X ├─░─┤ H ├─░──╫──╫──╫──╫──╫──╫──╫──╫──╫─»\n",
       "         └───┘ ░ └────┘└───┘└────┘└───┘ ░ └───┘ ░  ║  ║  ║  ║  ║  ║  ║  ║  ║ »\n",
       "meas: 12/══════════════════════════════════════════╩══╩══╩══╩══╩══╩══╩══╩══╩═»\n",
       "                                                   0  1  2  3  4  5  6  7  8 »\n",
       "«                  \n",
       "«    q_0: ─────────\n",
       "«                  \n",
       "«    q_1: ─────────\n",
       "«                  \n",
       "«    q_2: ─────────\n",
       "«                  \n",
       "«    q_3: ─────────\n",
       "«                  \n",
       "«    q_4: ─────────\n",
       "«                  \n",
       "«    q_5: ─────────\n",
       "«                  \n",
       "«    q_6: ─────────\n",
       "«                  \n",
       "«    q_7: ─────────\n",
       "«                  \n",
       "«    q_8: ─────────\n",
       "«         ┌─┐      \n",
       "«    q_9: ┤M├──────\n",
       "«         └╥┘┌─┐   \n",
       "«   q_10: ─╫─┤M├───\n",
       "«          ║ └╥┘┌─┐\n",
       "«   q_11: ─╫──╫─┤M├\n",
       "«          ║  ║ └╥┘\n",
       "«meas: 12/═╩══╩══╩═\n",
       "«          9  10 11"
      ]
     },
     "execution_count": 59,
     "metadata": {},
     "output_type": "execute_result"
    }
   ],
   "source": [
    "### print an example of circuit construction\n",
    "\n",
    "k = 1 # anyone \n",
    "print(raw_exp_rel[k]) #instruction\n",
    "Q,P,seq = raw_exp_rel[k]  \n",
    "gate_seq = getCircuit(seq) #from instruction to QuantumCircuit\n",
    "qc = add_circ(Q,P,gate_seq)\n",
    "qc.draw()\n"
   ]
  },
  {
   "cell_type": "markdown",
   "metadata": {},
   "source": [
    "## Step 4. Simulations\n",
    "\n",
    "The above codes generate experiments that are sufficient for data acquisition. Now we finish the codes for data processing. We also include qiskit simulation.\n",
    "\n",
    "We reconstruct the noise parameters based on $A\\bm{r}=\\bm{b}$, where $\\bm r$ is all noise parameters, $A$ is the design matrix, $\\bm{b}$ is the observed (negative log) circuit fidelity. \n",
    "\n",
    "The data processing code first estimates $\\hat{\\bm b}$ from parallelized experiments. Then estimate $\\hat{\\bm r}$ using e.g. $\\hat{\\bm r} =A^+ \\hat{\\bm b}$. Note that $A$ is not full-rank due to gauge issue, but has maximum rank by design. In other words, $\\hat{\\bm r}$ has exactly $n$ single-qubit depolarizing gauge degrees of freedom, consistent with the theory.\n"
   ]
  },
  {
   "cell_type": "code",
   "execution_count": 60,
   "metadata": {},
   "outputs": [],
   "source": [
    "\n",
    "\n",
    "# Simulation paramaters\n",
    "shots = 10000\n",
    "eps = 0.01\n",
    "eps_readout = 0.01 \n",
    "noise_model = NoiseModel()\n",
    "\n",
    "# gate error (try a simple bitflip)\n",
    "bit_flip_1q = pauli_error([('X', eps), ('I', 1 - eps)])\n",
    "noise_model.add_all_qubit_quantum_error(bit_flip_1q.tensor(bit_flip_1q),['cx'])\n",
    "\n",
    "# readout error\n",
    "p0given1 = eps_readout\n",
    "p1given0 = eps_readout\n",
    "readout_noise_1q = ReadoutError([[1 - p1given0, p1given0], [p0given1, 1 - p0given1]])\n",
    "noise_model.add_all_qubit_readout_error(readout_noise_1q)\n",
    "\n",
    "\n",
    "backend = AerSimulator(method='stabilizer', noise_model=noise_model)\n",
    "job = backend.run(circ_list, shots=shots, max_parallel_experiments=0, memory = True) \n",
    "result = job.result()"
   ]
  },
  {
   "cell_type": "code",
   "execution_count": 61,
   "metadata": {},
   "outputs": [],
   "source": [
    "### using depth 0/1 experiments as an example\n",
    "# raw_exp_results = []\n",
    "\n",
    "from scipy.linalg import pinv\n",
    "\n",
    "def estimate_from_raw(rawidx,obs):\n",
    "    # Note 1: we have ignored any possible sign. Take some \"absolute value\" here.\n",
    "    # Note 2: For gate amplyfing experiments. We might want to use multiple depth to fit an estimate.\n",
    "    cnts = result.get_counts()[rawidx]\n",
    "    res = 0\n",
    "    tot = 0\n",
    "\n",
    "    ptrev = pt(obs)[::-1] # to fit qiskit's convention\n",
    "    \n",
    "    for outcome,value in cnts.items():\n",
    "        sgn = 1\n",
    "        for k in range(len(outcome)):\n",
    "            # print(ptrev,outcome)\n",
    "            if ptrev[k] == 1 and outcome[k] == \"1\":\n",
    "                sgn = -sgn\n",
    "        res += sgn * value\n",
    "        tot += value\n",
    "    return np.abs(res/tot) # assume all Pauli fidelity >> 0\n",
    "\n",
    "b = []\n",
    "\n",
    "for k in range(len(exp_list)):\n",
    "    obs = exp_list[k][1]\n",
    "    rawidx = from_circ[k]\n",
    "    # print(\"Estimate:\",obs,\"from raw exp:\",raw_exp_list[rawidx]) # Estimate observable \"obs\" from raw experiments #rawidx\n",
    "    b.append(estimate_from_raw(rawidx,obs)) \n",
    "\n",
    "b = np.array(b)\n",
    "# print(b)\n",
    "\n",
    "logb = -np.log(b) # minus log"
   ]
  },
  {
   "cell_type": "code",
   "execution_count": 62,
   "metadata": {},
   "outputs": [],
   "source": [
    "A_p = pinv(design_mat)\n",
    "r_0 = A_p @ logb # One solution\n",
    "# x_0"
   ]
  },
  {
   "cell_type": "markdown",
   "metadata": {},
   "source": [
    "Let $x_a^G = -\\log\\lambda_a^G$ for any Pauli $a$, the later is the familiar Pauli fidelity. Our noise model is given by $$x_a^G = \\sum_{b\\triangleleft a,~b~\\text{is a factor}}r_b^G.$$\n",
    "In our case the factor are all weight-1 Pauli and nearest-neighbor weight 2-Pauli. SPAM noise is given similarly, but with the Pauli eigenvalues only depending on their pattern (i.e., symmetrized over X, Y, Z). \n",
    "\n",
    "The following get_spam and get_gate function goes from $r$ to $x$."
   ]
  },
  {
   "cell_type": "code",
   "execution_count": 63,
   "metadata": {},
   "outputs": [],
   "source": [
    "#help function - get x from r\n",
    "def get_spam(r, label, indset):\n",
    "    x_tmp = 0.0\n",
    "    for fac in powerset(indset):\n",
    "        if fac in faclist: \n",
    "            x_tmp += r[param.inverse[(label, fac)]]\n",
    "    return x_tmp\n",
    "\n",
    "def get_gate(r, label, P):\n",
    "    x_tmp = 0.0\n",
    "    pattern = pt(P)\n",
    "    indset = []\n",
    "    for k in range(n):\n",
    "        if pattern[k] == 1: \n",
    "            indset.append(k)\n",
    "    # print(pattern,indset)\n",
    "    for fac in powerset(indset):\n",
    "        if fac in faclist: \n",
    "            # print()\n",
    "            x_tmp += r[param.inverse[(label, fac, tuple([P[k] for k in fac]))]]\n",
    "    return x_tmp\n",
    "        "
   ]
  },
  {
   "cell_type": "markdown",
   "metadata": {},
   "source": [
    "### Verify estimation\n",
    "\n",
    "For SPAM noise, we simplify verify the product of SP and M eigenvalues."
   ]
  },
  {
   "cell_type": "code",
   "execution_count": 64,
   "metadata": {},
   "outputs": [
    {
     "name": "stdout",
     "output_type": "stream",
     "text": [
      "True 1q SPAM fidelity: 0.98\n",
      "Estimated 2q SPAM (qubit 0,1,...,11):\n",
      "(0,) 0.9813999999999999\n",
      "(1,) 0.9753999999999997\n",
      "(2,) 0.9794000000000005\n",
      "(3,) 0.9793999999999999\n",
      "(4,) 0.9817999999999997\n",
      "(5,) 0.9819999999999997\n",
      "(6,) 0.9804\n",
      "(7,) 0.9807999999999997\n",
      "(8,) 0.9774000000000002\n",
      "(9,) 0.9836\n",
      "(10,) 0.9806\n",
      "(11,) 0.9800000000000001\n",
      "average estimation error = 0.0015833333333332422\n"
     ]
    }
   ],
   "source": [
    "#verify learnable fidelity... SPAM first\n",
    "print(\"True 1q SPAM fidelity:\", 1-2*eps_readout)\n",
    "print(\"Estimated 2q SPAM (qubit 0,1,...,11):\")\n",
    "ave_err = 0.0\n",
    "for k in range(n):\n",
    "    # x_spam = x_0[param.inverse[('S', (k,))]] + x_0[param.inverse[('M', (k,))]]\n",
    "    x_spam = get_spam(r_0,'S',(k,)) + get_spam(r_0,'M',(k,))\n",
    "    print((k,),np.exp(-x_spam))\n",
    "    ave_err += np.abs(np.exp(-x_spam) - (1-2*eps_readout))\n",
    "ave_err/=n\n",
    "print(\"average estimation error =\",ave_err)"
   ]
  },
  {
   "cell_type": "code",
   "execution_count": 65,
   "metadata": {},
   "outputs": [
    {
     "name": "stdout",
     "output_type": "stream",
     "text": [
      "True 2q SPAM fidelity: 0.9603999999999999\n",
      "Estimated 2q SPAM fidelity (qubit (0,1),...,(11,0)):\n",
      "(0, 1) 0.9580000000000002\n",
      "(1, 2) 0.9552000000000002\n",
      "(2, 3) 0.9592000000000002\n",
      "(3, 4) 0.9616\n",
      "(4, 5) 0.9646\n",
      "(5, 6) 0.9627999999999999\n",
      "(6, 7) 0.9620000000000002\n",
      "(7, 8) 0.9586\n",
      "(8, 9) 0.9613999999999999\n",
      "(9, 10) 0.9641999999999998\n",
      "(10, 11) 0.9614000000000003\n",
      "(11, 0) 0.961772\n",
      "average estimation error = 0.0022643333333333218\n"
     ]
    }
   ],
   "source": [
    "#verify learnable fidelity... SPAM first\n",
    "print(\"True 2q SPAM fidelity:\", (1-2*eps_readout)**2)\n",
    "print(\"Estimated 2q SPAM fidelity (qubit (0,1),...,(11,0)):\")\n",
    "ave_err = 0.0\n",
    "for k in range(n):\n",
    "    x_spam = get_spam(r_0, 'S', (k,np.mod(k+1,n))) + get_spam(r_0, 'M', (k,np.mod(k+1,n))) \n",
    "    print((k,np.mod(k+1,n)),np.exp(-x_spam))\n",
    "    ave_err += np.abs((1-2*eps_readout)**2 - np.exp(-x_spam))\n",
    "ave_err/=n\n",
    "print(\"average estimation error =\",ave_err)"
   ]
  },
  {
   "cell_type": "code",
   "execution_count": 66,
   "metadata": {},
   "outputs": [
    {
     "name": "stdout",
     "output_type": "stream",
     "text": [
      "True 3q SPAM fidelity: 0.9411919999999999\n",
      "Estimated 3q SPAM fidelity:\n",
      "(0, 1, 2) 0.9381603444740626\n",
      "(1, 2, 3) 0.9354991219113742\n",
      "(2, 3, 4) 0.9417671227282012\n",
      "(3, 4, 5) 0.9447538806274193\n",
      "(4, 5, 6) 0.945740203665988\n",
      "(5, 6, 7) 0.9447303141574867\n",
      "(6, 7, 8) 0.9402255301794459\n",
      "(7, 8, 9) 0.9429077552690811\n",
      "(8, 9, 10) 0.9424378609190726\n",
      "(9, 10, 11) 0.9453211095247808\n",
      "(10, 11, 0) 0.9435179600000001\n",
      "(11, 0, 1) 0.9388400000000003\n",
      "average estimation error = 0.0028069341939289116\n"
     ]
    }
   ],
   "source": [
    "#verify learnable fidelity... SPAM first\n",
    "print(\"True 3q SPAM fidelity:\", (1-2*eps_readout)**3)\n",
    "print(\"Estimated 3q SPAM fidelity:\")\n",
    "ave_err = 0.0\n",
    "for k in range(n):\n",
    "    x_spam = get_spam(r_0, 'S', (k,np.mod(k+1,n),np.mod(k+2,n))) + get_spam(r_0, 'M', (k,np.mod(k+1,n),np.mod(k+2,n))) \n",
    "    print((k,np.mod(k+1,n),np.mod(k+2,n)),np.exp(-x_spam))\n",
    "    ave_err += np.abs((1-2*eps_readout)**3 - np.exp(-x_spam))\n",
    "ave_err/=n\n",
    "print(\"average estimation error =\",ave_err)"
   ]
  },
  {
   "cell_type": "markdown",
   "metadata": {},
   "source": [
    "Now we verify gate noise eigenvalues estimation. Note the difference between learnable and unlearnable parameters."
   ]
  },
  {
   "cell_type": "code",
   "execution_count": 67,
   "metadata": {},
   "outputs": [
    {
     "name": "stdout",
     "output_type": "stream",
     "text": [
      "True 1q Gate Z fidelity (layer 1): 0.98\n",
      "ZIIIIIIIIIII 0.9818626452007337\n",
      "IIZIIIIIIIII 0.9785583010006124\n",
      "IIIIZIIIIIII 0.9755551028722758\n",
      "IIIIIIZIIIII 0.9824561403508771\n",
      "IIIIIIIIZIII 0.978514426028238\n",
      "IIIIIIIIIIZI 0.9775647562716703\n",
      "average estimation error = 0.0023543665631357382\n",
      "Below are gauge-dependent (unlearnable) fidelity\n",
      "IZIIIIIIIIII 0.9807090740583638\n",
      "IIIZIIIIIIII 0.9736497072708179\n",
      "IIIIIZIIIIII 0.9674693583017596\n",
      "IIIIIIIZIIII 0.971403396757425\n",
      "IIIIIIIIIZII 0.9721315108042626\n",
      "IIIIIIIIIIIZ 0.9762325960457117\n",
      "average estimation error = 0.006637084146397816 (Large error due to unlearnability)\n",
      "Learnable combined cycles (IZ->ZZ). True value = 0.9411919999999999\n",
      "IZIIIIIIIIII ZZIIIIIIIIII 0.9528495776905191\n",
      "IIIZIIIIIIII IIZZIIIIIIII 0.9434910447972179\n",
      "IIIIIZIIIIII IIIIZZIIIIII 0.9401731266466316\n",
      "IIIIIIIZIIII IIIIIIZZIIII 0.9410518122589903\n",
      "IIIIIIIIIZII IIIIIIIIZZII 0.9380306339550064\n",
      "IIIIIIIIIIIZ IIIIIIIIIIZZ 0.9406844610113653\n",
      "average estimation error = 0.003130764769290565\n"
     ]
    }
   ],
   "source": [
    "#verify learnable gate fidelity\n",
    "print(\"True 1q Gate Z fidelity (layer 1):\", (1-2*eps))\n",
    "ave_err = 0.0\n",
    "for k in range(n>>1):\n",
    "    P = \"Z\"+\"I\"*(n-1)\n",
    "    P = \"\".join([P[mod(j-2*k,n)] for j in range(n)])\n",
    "    x_gate = get_gate(r_0, 'layer1', P)  \n",
    "    print(P,np.exp(-x_gate))\n",
    "    ave_err += np.abs((1-2*eps) - np.exp(-x_gate))\n",
    "ave_err/=n/2\n",
    "print(\"average estimation error =\",ave_err)\n",
    "\n",
    "print(\"Below are gauge-dependent (unlearnable) fidelity\")\n",
    "ave_err = 0.0\n",
    "for k in range(n>>1):\n",
    "    P = \"Z\"+\"I\"*(n-1)\n",
    "    P = \"\".join([P[mod(j-2*k-1,n)] for j in range(n)])\n",
    "    x_gate = get_gate(r_0, 'layer1', P)  \n",
    "    print(P,np.exp(-x_gate))\n",
    "    # [\"learnable\",\"degenerate\"][np.mod(k,2)]\n",
    "    ave_err += np.abs((1-2*eps) - np.exp(-x_gate))\n",
    "ave_err/=n/2\n",
    "print(\"average estimation error =\",ave_err,\"(Large error due to unlearnability)\")\n",
    "\n",
    "\n",
    "print(\"Learnable combined cycles (IZ->ZZ). True value =\",(1-2*eps) * (1-2*eps)**2)\n",
    "ave_err = 0.0\n",
    "for k in range(n>>1):\n",
    "    P = \"Z\"+\"I\"*(n-1)\n",
    "    P1 = \"\".join([P[mod(j-2*k-1,n)] for j in range(n)])\n",
    "    P = \"ZZ\"+\"I\"*(n-2)\n",
    "    P2 = \"\".join([P[mod(j-2*k,n)] for j in range(n)])\n",
    "    x_gate = get_gate(r_0, 'layer1', P1) +  get_gate(r_0, 'layer1', P2) \n",
    "    print(P1,P2,np.exp(-x_gate))\n",
    "    ave_err += np.abs((1-2*eps) * (1-2*eps)**2 - np.exp(-x_gate))\n",
    "ave_err/=n/2\n",
    "print(\"average estimation error =\",ave_err)"
   ]
  },
  {
   "cell_type": "code",
   "execution_count": 68,
   "metadata": {},
   "outputs": [
    {
     "name": "stdout",
     "output_type": "stream",
     "text": [
      "True 1q Gate Z fidelity (layer 2): 0.98\n",
      "IZIIIIIIIIII 0.9848267377486163\n",
      "IIIZIIIIIIII 0.981621400857668\n",
      "IIIIIZIIIIII 0.973116089613035\n",
      "IIIIIIIZIIII 0.9812398042414359\n",
      "IIIIIIIIIZII 0.9745831638877591\n",
      "IIIIIIIIIIIZ 0.9820408163265306\n",
      "average estimation error = 0.0036715842789094566\n",
      "Below are gauge-dependent (unlearnable) fidelity\n",
      "ZIIIIIIIIIII 0.9617663801407972\n",
      "IIZIIIIIIIII 0.969702341813577\n",
      "IIIIZIIIIIII 0.9663287716241229\n",
      "IIIIIIZIIIII 0.9713173454409495\n",
      "IIIIIIIIZIII 0.972320939976874\n",
      "IIIIIIIIIIZI 0.9604022654179509\n",
      "average estimation error = 0.013026992597621412 (Large error due to unlearnability)\n",
      "Learnable combined cycles (IZ->ZZ). True value = 0.9411919999999999\n",
      "ZIIIIIIIIIII ZIIIIIIIIIIZ 0.9341385452510902\n",
      "IIZIIIIIIIII IZZIIIIIIIII 0.9506748568244526\n",
      "IIIIZIIIIIII IIIZZIIIIIII 0.9390572309544528\n",
      "IIIIIIZIIIII IIIIIZZIIIII 0.9381355244131045\n",
      "IIIIIIIIZIII IIIIIIIZZIII 0.9511106654028018\n",
      "IIIIIIIIIIZI IIIIIIIIIZZI 0.9280026710255286\n",
      "average estimation error = 0.007472591763846348\n"
     ]
    }
   ],
   "source": [
    "#verify learnable gate fidelity\n",
    "print(\"True 1q Gate Z fidelity (layer 2):\", (1-2*eps))\n",
    "# print(\"Estimated 2q SPAM fidelity (qubit (0,1),...,(11,0)):\")\n",
    "ave_err = 0.0\n",
    "for k in range(n>>1):\n",
    "    P = \"Z\"+\"I\"*(n-1)\n",
    "    P = \"\".join([P[mod(j-2*k-1,n)] for j in range(n)])\n",
    "    x_gate = get_gate(r_0, 'layer2', P)  \n",
    "    print(P,np.exp(-x_gate))\n",
    "    ave_err += np.abs((1-2*eps) - np.exp(-x_gate))\n",
    "ave_err/=n/2\n",
    "print(\"average estimation error =\",ave_err)\n",
    "\n",
    "print(\"Below are gauge-dependent (unlearnable) fidelity\")\n",
    "ave_err = 0.0\n",
    "for k in range(n>>1):\n",
    "    P = \"Z\"+\"I\"*(n-1)\n",
    "    P = \"\".join([P[mod(j-2*k,n)] for j in range(n)])\n",
    "    x_gate = get_gate(r_0, 'layer2', P)  \n",
    "    print(P,np.exp(-x_gate))\n",
    "    ave_err += np.abs((1-2*eps) - np.exp(-x_gate))\n",
    "ave_err/=n/2\n",
    "print(\"average estimation error =\",ave_err,\"(Large error due to unlearnability)\")\n",
    "\n",
    "\n",
    "print(\"Learnable combined cycles (IZ->ZZ). True value =\",(1-2*eps) * (1-2*eps)**2)\n",
    "ave_err = 0.0\n",
    "for k in range(n>>1):\n",
    "    P = \"Z\"+\"I\"*(n-1)\n",
    "    P1 = \"\".join([P[mod(j-2*k,n)] for j in range(n)])\n",
    "    P = \"ZZ\"+\"I\"*(n-2)\n",
    "    P2 = \"\".join([P[mod(j-2*k+1,n)] for j in range(n)])\n",
    "    x_gate = get_gate(r_0, 'layer2', P1) +  get_gate(r_0, 'layer2', P2) \n",
    "    print(P1,P2,np.exp(-x_gate))\n",
    "    ave_err += np.abs((1-2*eps) * (1-2*eps)**2 - np.exp(-x_gate))\n",
    "ave_err/=n/2\n",
    "print(\"average estimation error =\",ave_err)"
   ]
  }
 ],
 "metadata": {
  "kernelspec": {
   "display_name": "Python 3",
   "language": "python",
   "name": "python3"
  },
  "language_info": {
   "codemirror_mode": {
    "name": "ipython",
    "version": 3
   },
   "file_extension": ".py",
   "mimetype": "text/x-python",
   "name": "python",
   "nbconvert_exporter": "python",
   "pygments_lexer": "ipython3",
   "version": "3.11.10"
  }
 },
 "nbformat": 4,
 "nbformat_minor": 2
}
